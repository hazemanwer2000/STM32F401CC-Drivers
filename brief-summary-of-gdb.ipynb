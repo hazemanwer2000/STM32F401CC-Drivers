{
 "cells": [
  {
   "cell_type": "markdown",
   "id": "5fa9d8b1",
   "metadata": {},
   "source": [
    "# A brief summary of *GDB* and *OpenOCD*\n",
    "<br>\n",
    "<div style=\"opacity: 0.8; font-family: Consolas, Monaco, Lucida Console, Liberation Mono, DejaVu Sans Mono, Bitstream Vera Sans Mono, Courier New; font-size: 12px; font-style: italic;\">\n",
    "    ────────\n",
    "    for more from the author, visit\n",
    "    <a href=\"https://github.com/hazemanwer2000\">github.com/hazemanwer2000</a>.\n",
    "    ────────\n",
    "</div>"
   ]
  },
  {
   "cell_type": "markdown",
   "id": "33b24dcb",
   "metadata": {},
   "source": [
    "## Table of Contents\n",
    "* [](#)\n",
    "\n",
    "<hr>"
   ]
  },
  {
   "cell_type": "markdown",
   "id": "8758c808",
   "metadata": {},
   "source": [
    "The *GNU Project Debugger (GDB)* is one of the most commonly used for debugging C/C++ applications.\n",
    "\n",
    "It allows remote debugging, where the executable file runs on a different machine, which is a requirement when cross-compiling (e.g: cross-compiling with `arm-none-eabi-gcc` for an embedded ARM-based target, on a x86 machine).\n",
    "\n",
    "In embedded systems, a *GDB server* (e.g: *OpenOCD*) detects and communicates with a target, receiving commands from a *GDB* process."
   ]
  },
  {
   "cell_type": "markdown",
   "id": "5d123932",
   "metadata": {},
   "source": [
    "### Commands"
   ]
  },
  {
   "cell_type": "markdown",
   "id": "2d14c092",
   "metadata": {},
   "source": [
    "#### Establishing a connection"
   ]
  },
  {
   "cell_type": "markdown",
   "id": "5cdabd35",
   "metadata": {},
   "source": [
    "To initiate a GDB debugging session,"
   ]
  },
  {
   "cell_type": "code",
   "execution_count": null,
   "id": "f83e5f06",
   "metadata": {},
   "outputs": [],
   "source": [
    "$ gdb-multiarch                          # Supports ARM targets, among others"
   ]
  },
  {
   "cell_type": "markdown",
   "id": "3e563fd1",
   "metadata": {},
   "source": [
    "To allow GDB to read and parse the executable file,"
   ]
  },
  {
   "cell_type": "code",
   "execution_count": null,
   "id": "154e9b22",
   "metadata": {},
   "outputs": [],
   "source": [
    "(gdb) file FILE"
   ]
  },
  {
   "cell_type": "markdown",
   "id": "f9c8e9ae",
   "metadata": {},
   "source": [
    "To connect to a remote OpenOCD server from within the GDB process, "
   ]
  },
  {
   "cell_type": "code",
   "execution_count": null,
   "id": "df910d32",
   "metadata": {},
   "outputs": [],
   "source": [
    "(gdb) target remote IP:PORT                  # 'remote' does not permit resetting"
   ]
  },
  {
   "cell_type": "code",
   "execution_count": null,
   "id": "72158695",
   "metadata": {},
   "outputs": [],
   "source": [
    "(gdb) target extended-remote IP:PORT         # 'extended-remote' permits resetting"
   ]
  },
  {
   "cell_type": "markdown",
   "id": "64887080",
   "metadata": {},
   "source": [
    "To load the executable file into the target,"
   ]
  },
  {
   "cell_type": "code",
   "execution_count": null,
   "id": "6fc2ccc8",
   "metadata": {},
   "outputs": [],
   "source": [
    "(gdb) load"
   ]
  },
  {
   "cell_type": "markdown",
   "id": "774e87ec",
   "metadata": {},
   "source": [
    "To run (or, reset) the loaded executable file,"
   ]
  },
  {
   "cell_type": "code",
   "execution_count": null,
   "id": "be972428",
   "metadata": {},
   "outputs": [],
   "source": [
    "(gdb) run"
   ]
  },
  {
   "cell_type": "markdown",
   "id": "8ce97237",
   "metadata": {},
   "source": [
    "To end the GDB debugging session,"
   ]
  },
  {
   "cell_type": "code",
   "execution_count": null,
   "id": "6b25791c",
   "metadata": {},
   "outputs": [],
   "source": [
    "(gdb) quit"
   ]
  },
  {
   "cell_type": "markdown",
   "id": "3922958c",
   "metadata": {},
   "source": [
    "#### Viewing Information"
   ]
  },
  {
   "cell_type": "markdown",
   "id": "b31a33aa",
   "metadata": {},
   "source": [
    "The *Text User Interface (TUI)* mode enables the viewing of source, and/or assembly, as execution proceeds."
   ]
  },
  {
   "cell_type": "code",
   "execution_count": null,
   "id": "3dd89efb",
   "metadata": {},
   "outputs": [],
   "source": [
    "tui enable"
   ]
  },
  {
   "cell_type": "code",
   "execution_count": null,
   "id": "8ab8f0a7",
   "metadata": {},
   "outputs": [],
   "source": [
    "tui disable"
   ]
  },
  {
   "cell_type": "markdown",
   "id": "e1d23056",
   "metadata": {},
   "source": [
    "With TUI mode enabled, the `layout` command modifies what is to be displayed."
   ]
  },
  {
   "cell_type": "code",
   "execution_count": null,
   "id": "3da29b07",
   "metadata": {},
   "outputs": [],
   "source": [
    "layout LAYOUT                     # 'src', 'asm', or 'split'"
   ]
  }
 ],
 "metadata": {
  "kernelspec": {
   "display_name": "Python 3 (ipykernel)",
   "language": "python",
   "name": "python3"
  },
  "language_info": {
   "codemirror_mode": {
    "name": "ipython",
    "version": 3
   },
   "file_extension": ".py",
   "mimetype": "text/x-python",
   "name": "python",
   "nbconvert_exporter": "python",
   "pygments_lexer": "ipython3",
   "version": "3.8.10"
  }
 },
 "nbformat": 4,
 "nbformat_minor": 5
}
