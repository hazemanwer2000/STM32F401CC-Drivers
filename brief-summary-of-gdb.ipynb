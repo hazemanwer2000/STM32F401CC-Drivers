{
 "cells": [
  {
   "cell_type": "markdown",
   "id": "5fa9d8b1",
   "metadata": {},
   "source": [
    "# A brief summary of *GDB* and *OpenOCD*\n",
    "<br>\n",
    "<div style=\"opacity: 0.8; font-family: Consolas, Monaco, Lucida Console, Liberation Mono, DejaVu Sans Mono, Bitstream Vera Sans Mono, Courier New; font-size: 12px; font-style: italic;\">\n",
    "    ────────\n",
    "    for more from the author, visit\n",
    "    <a href=\"https://github.com/hazemanwer2000\">github.com/hazemanwer2000</a>.\n",
    "    ────────\n",
    "</div>"
   ]
  },
  {
   "cell_type": "markdown",
   "id": "33b24dcb",
   "metadata": {},
   "source": [
    "## Table of Contents\n",
    "* [](#)\n",
    "\n",
    "<hr>"
   ]
  },
  {
   "cell_type": "markdown",
   "id": "8758c808",
   "metadata": {},
   "source": [
    "The *GNU Project Debugger (GDB)* is one of the most commonly used for debugging C/C++ applications.\n",
    "\n",
    "It allows remote debugging, where the executable file runs on a different machine, which is a requirement when cross-compiling (e.g: cross-compiling with `arm-none-eabi-gcc` for an embedded ARM-based target, on a x86 machine).\n",
    "\n",
    "In embedded systems, a *GDB server* (e.g: *OpenOCD*) detects and communicates with a target, receiving commands from a *GDB* process."
   ]
  },
  {
   "cell_type": "markdown",
   "id": "7f235288",
   "metadata": {},
   "source": [
    "### Commands"
   ]
  },
  {
   "cell_type": "markdown",
   "id": "3a6a8470",
   "metadata": {},
   "source": [
    "#### Establishing a connection"
   ]
  },
  {
   "cell_type": "markdown",
   "id": "d30a2070",
   "metadata": {},
   "source": [
    "To initiate a GDB debugging session,"
   ]
  },
  {
   "cell_type": "code",
   "execution_count": null,
   "id": "66c43c43",
   "metadata": {},
   "outputs": [],
   "source": [
    "$ gdb-multiarch                          # Supports ARM targets, among others"
   ]
  },
  {
   "cell_type": "markdown",
   "id": "a95ea6e3",
   "metadata": {},
   "source": [
    "To allow GDB to read and parse the executable file,"
   ]
  },
  {
   "cell_type": "code",
   "execution_count": null,
   "id": "98f9e2e0",
   "metadata": {},
   "outputs": [],
   "source": [
    "(gdb) file FILE"
   ]
  },
  {
   "cell_type": "markdown",
   "id": "5777d0db",
   "metadata": {},
   "source": [
    "To connect to a remote OpenOCD server from within the GDB process, "
   ]
  },
  {
   "cell_type": "code",
   "execution_count": null,
   "id": "1c4667cf",
   "metadata": {},
   "outputs": [],
   "source": [
    "(gdb) target remote IP:PORT                  # 'remote' does not permit resetting"
   ]
  },
  {
   "cell_type": "code",
   "execution_count": null,
   "id": "cbca8ae1",
   "metadata": {},
   "outputs": [],
   "source": [
    "(gdb) target extended-remote IP:PORT         # 'extended-remote' permits resetting"
   ]
  },
  {
   "cell_type": "markdown",
   "id": "2be85c1b",
   "metadata": {},
   "source": [
    "To load the executable file into the target,"
   ]
  },
  {
   "cell_type": "code",
   "execution_count": null,
   "id": "7f1bba7d",
   "metadata": {},
   "outputs": [],
   "source": [
    "(gdb) load"
   ]
  },
  {
   "cell_type": "markdown",
   "id": "2802c83b",
   "metadata": {},
   "source": [
    "To run (or, reset) the loaded executable file,"
   ]
  },
  {
   "cell_type": "code",
   "execution_count": null,
   "id": "10f1b067",
   "metadata": {},
   "outputs": [],
   "source": [
    "(gdb) run"
   ]
  },
  {
   "cell_type": "markdown",
   "id": "936cf9c8",
   "metadata": {},
   "source": [
    "To end the GDB debugging session,"
   ]
  },
  {
   "cell_type": "code",
   "execution_count": null,
   "id": "c096a061",
   "metadata": {},
   "outputs": [],
   "source": [
    "(gdb) quit"
   ]
  },
  {
   "cell_type": "markdown",
   "id": "7b87eada",
   "metadata": {},
   "source": [
    "#### Reading from memory"
   ]
  },
  {
   "cell_type": "markdown",
   "id": "8a8b66c5",
   "metadata": {},
   "source": [
    "The *Text User Interface (TUI)* mode enables the viewing of source, and/or assembly, as execution proceeds."
   ]
  },
  {
   "cell_type": "code",
   "execution_count": null,
   "id": "3aff4d3d",
   "metadata": {},
   "outputs": [],
   "source": [
    "(gdb) tui enable"
   ]
  },
  {
   "cell_type": "code",
   "execution_count": null,
   "id": "1d0b6acd",
   "metadata": {},
   "outputs": [],
   "source": [
    "(gdb) tui disable"
   ]
  },
  {
   "cell_type": "markdown",
   "id": "e40cd05d",
   "metadata": {},
   "source": [
    "With TUI mode enabled, the `layout` command modifies what is to be displayed."
   ]
  },
  {
   "cell_type": "code",
   "execution_count": null,
   "id": "889b1f66",
   "metadata": {},
   "outputs": [],
   "source": [
    "(gdb) layout LAYOUT                     # 'src', 'asm', or 'split'"
   ]
  },
  {
   "cell_type": "markdown",
   "id": "83cec7ad",
   "metadata": {},
   "source": [
    "To display the function calls, leading up to the current instruction,"
   ]
  },
  {
   "cell_type": "code",
   "execution_count": null,
   "id": "31e0a094",
   "metadata": {},
   "outputs": [],
   "source": [
    "(gdb) info stack"
   ]
  },
  {
   "cell_type": "markdown",
   "id": "1036fb12",
   "metadata": {},
   "source": [
    "To display the current values in the register file,"
   ]
  },
  {
   "cell_type": "code",
   "execution_count": null,
   "id": "3b95c832",
   "metadata": {},
   "outputs": [],
   "source": [
    "(gdb) info registers"
   ]
  },
  {
   "cell_type": "markdown",
   "id": "72f705d0",
   "metadata": {},
   "source": [
    "To display the current value of a variable,"
   ]
  },
  {
   "cell_type": "code",
   "execution_count": null,
   "id": "3299a2e8",
   "metadata": {},
   "outputs": [],
   "source": [
    "(gdb) print VARIABLE"
   ]
  },
  {
   "cell_type": "markdown",
   "id": "9367987a",
   "metadata": {},
   "source": [
    "To display the current values of all local variables,"
   ]
  },
  {
   "cell_type": "code",
   "execution_count": null,
   "id": "9bc6762a",
   "metadata": {},
   "outputs": [],
   "source": [
    "(gdb) info locals"
   ]
  },
  {
   "cell_type": "markdown",
   "id": "89b73300",
   "metadata": {},
   "source": [
    "To display the current values of all passed arguments,"
   ]
  },
  {
   "cell_type": "code",
   "execution_count": null,
   "id": "de98631a",
   "metadata": {},
   "outputs": [],
   "source": [
    "(gdb) info args"
   ]
  },
  {
   "cell_type": "markdown",
   "id": "60ae57e7",
   "metadata": {},
   "source": [
    "To display the current value at a specific address,"
   ]
  },
  {
   "cell_type": "code",
   "execution_count": null,
   "id": "f2ccfe98",
   "metadata": {},
   "outputs": [],
   "source": [
    "(gdb) info ADDRESS                                   # e.g: '0x40020000'"
   ]
  },
  {
   "cell_type": "code",
   "execution_count": null,
   "id": "c9b2fd5a",
   "metadata": {},
   "outputs": [],
   "source": [
    "(gdb) info ADDRESS + OFFSET                          # e.g: '0x40020000 + 0x14'"
   ]
  },
  {
   "cell_type": "markdown",
   "id": "91f64bfa",
   "metadata": {},
   "source": [
    "#### Writing to memory"
   ]
  },
  {
   "cell_type": "markdown",
   "id": "7180ba98",
   "metadata": {},
   "source": [
    "To write to an arbitrary memory address,"
   ]
  },
  {
   "cell_type": "code",
   "execution_count": null,
   "id": "1935a3fa",
   "metadata": {},
   "outputs": [],
   "source": [
    "(gdb) set *ADDRESS = VALUE                           # Writes a word, by default           "
   ]
  },
  {
   "cell_type": "markdown",
   "id": "9843992b",
   "metadata": {},
   "source": [
    "To write to a specific variable,"
   ]
  },
  {
   "cell_type": "code",
   "execution_count": null,
   "id": "4ae27c36",
   "metadata": {},
   "outputs": [],
   "source": [
    "(gdb) set variable VARIABLE = VALUE"
   ]
  },
  {
   "cell_type": "markdown",
   "id": "6f023c45",
   "metadata": {},
   "source": [
    "#### Managing breakpoints"
   ]
  },
  {
   "cell_type": "markdown",
   "id": "571a4d86",
   "metadata": {},
   "source": [
    "A *breakpoint* is an address of an instruction, that when executed, the CPU halts.\n",
    "\n",
    "* A *hardware breakpoint* is implemented by placing the address of the instruction in special registers within the CPU, called *hardware breakpoint registers*. Continously, the CPU compares the *program counter (PC)* register with the hardware breakpoint registers, and halts if a match occurs.\n",
    "\n",
    "* A *software breakpoint* is implemented by a debugger, when executing from RAM. Instructions at breakpoints are substituted with a special CPU instruction (e.g: `BKPT` in ARM), that halts the CPU when executed. The debugger, then, ensures the next instruction to be executed is the previously substituted instruction.\n",
    "\n",
    "By default, in read-only addresses, GDB inserts *hardware breakpoints*, which are limited by the number of supporting registers within the CPU."
   ]
  },
  {
   "cell_type": "markdown",
   "id": "e3c96ebf",
   "metadata": {},
   "source": [
    "To insert a breakpoint,"
   ]
  },
  {
   "cell_type": "code",
   "execution_count": null,
   "id": "cba4bd80",
   "metadata": {},
   "outputs": [],
   "source": [
    "(gdb) break FUNCTION"
   ]
  },
  {
   "cell_type": "code",
   "execution_count": null,
   "id": "f52e2b16",
   "metadata": {},
   "outputs": [],
   "source": [
    "(gdb) break FILE:LINE"
   ]
  },
  {
   "cell_type": "markdown",
   "id": "ca4de2d6",
   "metadata": {},
   "source": [
    "*Note:* Similarly, use the `clear` command to delete a breakpoint, or `delete` for all."
   ]
  },
  {
   "cell_type": "markdown",
   "id": "b2b204e1",
   "metadata": {},
   "source": [
    "To disable a breakpoint,"
   ]
  },
  {
   "cell_type": "code",
   "execution_count": null,
   "id": "0531ef0b",
   "metadata": {},
   "outputs": [],
   "source": [
    "(gdb) disable N                # 'N' is the number given to a breakpoint by GDB"
   ]
  },
  {
   "cell_type": "code",
   "execution_count": null,
   "id": "d1ca526e",
   "metadata": {},
   "outputs": [],
   "source": [
    "(gdb) disable                  # for all"
   ]
  },
  {
   "cell_type": "markdown",
   "id": "e23a6c5e",
   "metadata": {},
   "source": [
    "*Note:* Similarly, use the `enable` command to enable a breakpoint."
   ]
  }
 ],
 "metadata": {
  "kernelspec": {
   "display_name": "Python 3 (ipykernel)",
   "language": "python",
   "name": "python3"
  },
  "language_info": {
   "codemirror_mode": {
    "name": "ipython",
    "version": 3
   },
   "file_extension": ".py",
   "mimetype": "text/x-python",
   "name": "python",
   "nbconvert_exporter": "python",
   "pygments_lexer": "ipython3",
   "version": "3.8.10"
  }
 },
 "nbformat": 4,
 "nbformat_minor": 5
}
