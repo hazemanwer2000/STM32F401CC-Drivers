{
 "cells": [
  {
   "cell_type": "markdown",
   "id": "5fa9d8b1",
   "metadata": {},
   "source": [
    "# A brief summary of *GDB* and *OpenOCD*\n",
    "<br>\n",
    "<div style=\"opacity: 0.8; font-family: Consolas, Monaco, Lucida Console, Liberation Mono, DejaVu Sans Mono, Bitstream Vera Sans Mono, Courier New; font-size: 12px; font-style: italic;\">\n",
    "    ────────\n",
    "    for more from the author, visit\n",
    "    <a href=\"https://github.com/hazemanwer2000\">github.com/hazemanwer2000</a>.\n",
    "    ────────\n",
    "</div>"
   ]
  },
  {
   "cell_type": "markdown",
   "id": "33b24dcb",
   "metadata": {},
   "source": [
    "## Table of Contents\n",
    "* [](#)\n",
    "\n",
    "<hr>"
   ]
  },
  {
   "cell_type": "markdown",
   "id": "8758c808",
   "metadata": {},
   "source": [
    "The *GNU Project Debugger (GDB)* is one of the most commonly used for debugging C/C++ applications.\n",
    "\n",
    "It allows remote debugging, where the executable file runs on a different machine, which is a requirement when cross-compiling (e.g: cross-compiling with `arm-none-eabi-gcc` for an embedded ARM-based target, on a x86 machine).\n",
    "\n",
    "In embedded systems, a *GDB server* (e.g: *OpenOCD*) detects and communicates with a target, receiving commands from a *GDB* process."
   ]
  },
  {
   "cell_type": "markdown",
   "id": "82037b26",
   "metadata": {},
   "source": [
    "### Commands"
   ]
  },
  {
   "cell_type": "markdown",
   "id": "861fc799",
   "metadata": {},
   "source": [
    "#### Establishing a connection"
   ]
  },
  {
   "cell_type": "markdown",
   "id": "79c53859",
   "metadata": {},
   "source": [
    "To initiate a GDB debugging session,"
   ]
  },
  {
   "cell_type": "code",
   "execution_count": null,
   "id": "acc39dc7",
   "metadata": {},
   "outputs": [],
   "source": [
    "$ gdb-multiarch                          # Supports ARM targets, among others"
   ]
  },
  {
   "cell_type": "markdown",
   "id": "0f42b99a",
   "metadata": {},
   "source": [
    "To allow GDB to read and parse the executable file,"
   ]
  },
  {
   "cell_type": "code",
   "execution_count": null,
   "id": "e276982a",
   "metadata": {},
   "outputs": [],
   "source": [
    "(gdb) file FILE"
   ]
  },
  {
   "cell_type": "markdown",
   "id": "b0e214a8",
   "metadata": {},
   "source": [
    "To connect to a remote OpenOCD server from within the GDB process, "
   ]
  },
  {
   "cell_type": "code",
   "execution_count": null,
   "id": "a768c820",
   "metadata": {},
   "outputs": [],
   "source": [
    "(gdb) target remote IP:PORT                  # 'remote' does not permit resetting"
   ]
  },
  {
   "cell_type": "code",
   "execution_count": null,
   "id": "3f3473a1",
   "metadata": {},
   "outputs": [],
   "source": [
    "(gdb) target extended-remote IP:PORT         # 'extended-remote' permits resetting"
   ]
  },
  {
   "cell_type": "markdown",
   "id": "2ea23633",
   "metadata": {},
   "source": [
    "To load the executable file into the target,"
   ]
  },
  {
   "cell_type": "code",
   "execution_count": null,
   "id": "42f98772",
   "metadata": {},
   "outputs": [],
   "source": [
    "(gdb) load"
   ]
  },
  {
   "cell_type": "markdown",
   "id": "43de4962",
   "metadata": {},
   "source": [
    "To run (or, reset) the loaded executable file,"
   ]
  },
  {
   "cell_type": "code",
   "execution_count": null,
   "id": "8cd13d97",
   "metadata": {},
   "outputs": [],
   "source": [
    "(gdb) run"
   ]
  },
  {
   "cell_type": "markdown",
   "id": "a9f41ec7",
   "metadata": {},
   "source": [
    "To end the GDB debugging session,"
   ]
  },
  {
   "cell_type": "code",
   "execution_count": null,
   "id": "9abe2e28",
   "metadata": {},
   "outputs": [],
   "source": [
    "(gdb) quit"
   ]
  },
  {
   "cell_type": "markdown",
   "id": "bc252439",
   "metadata": {},
   "source": [
    "#### Viewing Information"
   ]
  },
  {
   "cell_type": "markdown",
   "id": "8827585b",
   "metadata": {},
   "source": [
    "The *Text User Interface (TUI)* mode enables the viewing of source, and/or assembly, as execution proceeds."
   ]
  },
  {
   "cell_type": "code",
   "execution_count": null,
   "id": "ae16375d",
   "metadata": {},
   "outputs": [],
   "source": [
    "(gdb) tui enable"
   ]
  },
  {
   "cell_type": "code",
   "execution_count": null,
   "id": "468f8d7b",
   "metadata": {},
   "outputs": [],
   "source": [
    "(gdb) tui disable"
   ]
  },
  {
   "cell_type": "markdown",
   "id": "6798468c",
   "metadata": {},
   "source": [
    "With TUI mode enabled, the `layout` command modifies what is to be displayed."
   ]
  },
  {
   "cell_type": "code",
   "execution_count": null,
   "id": "81767976",
   "metadata": {},
   "outputs": [],
   "source": [
    "(gdb) layout LAYOUT                     # 'src', 'asm', or 'split'"
   ]
  },
  {
   "cell_type": "markdown",
   "id": "1d39f83e",
   "metadata": {},
   "source": [
    "To display the function calls, leading up to the current instruction,"
   ]
  },
  {
   "cell_type": "code",
   "execution_count": null,
   "id": "1afbdde3",
   "metadata": {},
   "outputs": [],
   "source": [
    "(gdb) info stack"
   ]
  },
  {
   "cell_type": "markdown",
   "id": "9c1a80bc",
   "metadata": {},
   "source": [
    "To display the current values in the register file,"
   ]
  },
  {
   "cell_type": "code",
   "execution_count": null,
   "id": "cbb6a901",
   "metadata": {},
   "outputs": [],
   "source": [
    "(gdb) info registers"
   ]
  },
  {
   "cell_type": "markdown",
   "id": "5b197ad1",
   "metadata": {},
   "source": [
    "To display the current value of a variable,"
   ]
  },
  {
   "cell_type": "code",
   "execution_count": null,
   "id": "c9031fae",
   "metadata": {},
   "outputs": [],
   "source": [
    "print VARIABLE"
   ]
  },
  {
   "cell_type": "markdown",
   "id": "f3062092",
   "metadata": {},
   "source": [
    "To display the current values of all local variables,"
   ]
  },
  {
   "cell_type": "code",
   "execution_count": null,
   "id": "d6dbc409",
   "metadata": {},
   "outputs": [],
   "source": [
    "info locals"
   ]
  },
  {
   "cell_type": "markdown",
   "id": "ff241ed6",
   "metadata": {},
   "source": [
    "To display the current values of all passed arguments,"
   ]
  },
  {
   "cell_type": "code",
   "execution_count": null,
   "id": "a1227f4e",
   "metadata": {},
   "outputs": [],
   "source": [
    "info args"
   ]
  },
  {
   "cell_type": "markdown",
   "id": "4b819373",
   "metadata": {},
   "source": [
    "To display the current value at a specific address,"
   ]
  },
  {
   "cell_type": "code",
   "execution_count": null,
   "id": "e5577899",
   "metadata": {},
   "outputs": [],
   "source": [
    "info ADDRESS                                   # e.g: '0x40020000'"
   ]
  },
  {
   "cell_type": "code",
   "execution_count": null,
   "id": "543d3a23",
   "metadata": {},
   "outputs": [],
   "source": [
    "info ADDRESS + OFFSET                          # e.g: '0x40020000 + 0x14'"
   ]
  }
 ],
 "metadata": {
  "kernelspec": {
   "display_name": "Python 3 (ipykernel)",
   "language": "python",
   "name": "python3"
  },
  "language_info": {
   "codemirror_mode": {
    "name": "ipython",
    "version": 3
   },
   "file_extension": ".py",
   "mimetype": "text/x-python",
   "name": "python",
   "nbconvert_exporter": "python",
   "pygments_lexer": "ipython3",
   "version": "3.8.10"
  }
 },
 "nbformat": 4,
 "nbformat_minor": 5
}
