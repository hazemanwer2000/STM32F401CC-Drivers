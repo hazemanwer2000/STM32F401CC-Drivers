{
 "cells": [
  {
   "cell_type": "markdown",
   "id": "5fa9d8b1",
   "metadata": {},
   "source": [
    "# A brief summary of *GDB* and *OpenOCD*\n",
    "<br>\n",
    "<div style=\"opacity: 0.8; font-family: Consolas, Monaco, Lucida Console, Liberation Mono, DejaVu Sans Mono, Bitstream Vera Sans Mono, Courier New; font-size: 12px; font-style: italic;\">\n",
    "    ────────\n",
    "    for more from the author, visit\n",
    "    <a href=\"https://github.com/hazemanwer2000\">github.com/hazemanwer2000</a>.\n",
    "    ────────\n",
    "</div>"
   ]
  },
  {
   "cell_type": "markdown",
   "id": "33b24dcb",
   "metadata": {},
   "source": [
    "## Table of Contents\n",
    "* [](#)\n",
    "\n",
    "<hr>"
   ]
  },
  {
   "cell_type": "markdown",
   "id": "8758c808",
   "metadata": {},
   "source": [
    "The *GNU Project Debugger (GDB)* is one of the most commonly used for debugging C/C++ applications.\n",
    "\n",
    "It allows remote debugging, where the executable file runs on a different machine, which is a requirement when cross-compiling (e.g: cross-compiling with `arm-none-eabi-gcc` for an embedded ARM-based target, on a x86 machine).\n",
    "\n",
    "In embedded systems, a *GDB server* (e.g: *OpenOCD*) detects and communicates with a target, receiving commands from a *GDB* process."
   ]
  },
  {
   "cell_type": "markdown",
   "id": "7f235288",
   "metadata": {},
   "source": [
    "### Commands"
   ]
  },
  {
   "cell_type": "markdown",
   "id": "3a6a8470",
   "metadata": {},
   "source": [
    "#### Establishing a connection"
   ]
  },
  {
   "cell_type": "markdown",
   "id": "d30a2070",
   "metadata": {},
   "source": [
    "To initiate a GDB debugging session,"
   ]
  },
  {
   "cell_type": "code",
   "execution_count": null,
   "id": "66c43c43",
   "metadata": {},
   "outputs": [],
   "source": [
    "$ gdb-multiarch                          # Supports ARM targets, among others"
   ]
  },
  {
   "cell_type": "markdown",
   "id": "a95ea6e3",
   "metadata": {},
   "source": [
    "To allow GDB to read and parse the executable file,"
   ]
  },
  {
   "cell_type": "code",
   "execution_count": null,
   "id": "98f9e2e0",
   "metadata": {},
   "outputs": [],
   "source": [
    "(gdb) file FILE"
   ]
  },
  {
   "cell_type": "markdown",
   "id": "5777d0db",
   "metadata": {},
   "source": [
    "To connect to a remote OpenOCD server from within the GDB process, "
   ]
  },
  {
   "cell_type": "code",
   "execution_count": null,
   "id": "1c4667cf",
   "metadata": {},
   "outputs": [],
   "source": [
    "(gdb) target remote IP:PORT                  # 'remote' does not permit resetting"
   ]
  },
  {
   "cell_type": "code",
   "execution_count": null,
   "id": "cbca8ae1",
   "metadata": {},
   "outputs": [],
   "source": [
    "(gdb) target extended-remote IP:PORT         # 'extended-remote' permits resetting"
   ]
  },
  {
   "cell_type": "markdown",
   "id": "2be85c1b",
   "metadata": {},
   "source": [
    "To load the executable file into the target,"
   ]
  },
  {
   "cell_type": "code",
   "execution_count": null,
   "id": "7f1bba7d",
   "metadata": {},
   "outputs": [],
   "source": [
    "(gdb) load"
   ]
  },
  {
   "cell_type": "markdown",
   "id": "2802c83b",
   "metadata": {},
   "source": [
    "To run (or, reset) the loaded executable file,"
   ]
  },
  {
   "cell_type": "code",
   "execution_count": null,
   "id": "10f1b067",
   "metadata": {},
   "outputs": [],
   "source": [
    "(gdb) run"
   ]
  },
  {
   "cell_type": "markdown",
   "id": "936cf9c8",
   "metadata": {},
   "source": [
    "To end the GDB debugging session,"
   ]
  },
  {
   "cell_type": "code",
   "execution_count": null,
   "id": "c096a061",
   "metadata": {},
   "outputs": [],
   "source": [
    "(gdb) quit"
   ]
  },
  {
   "cell_type": "markdown",
   "id": "7b87eada",
   "metadata": {},
   "source": [
    "#### Reading from memory"
   ]
  },
  {
   "cell_type": "markdown",
   "id": "8a8b66c5",
   "metadata": {},
   "source": [
    "The *Text User Interface (TUI)* mode enables the viewing of source, and/or assembly, as execution proceeds."
   ]
  },
  {
   "cell_type": "code",
   "execution_count": null,
   "id": "3aff4d3d",
   "metadata": {},
   "outputs": [],
   "source": [
    "(gdb) tui enable"
   ]
  },
  {
   "cell_type": "code",
   "execution_count": null,
   "id": "1d0b6acd",
   "metadata": {},
   "outputs": [],
   "source": [
    "(gdb) tui disable"
   ]
  },
  {
   "cell_type": "markdown",
   "id": "e40cd05d",
   "metadata": {},
   "source": [
    "With TUI mode enabled, the `layout` command modifies what is to be displayed."
   ]
  },
  {
   "cell_type": "code",
   "execution_count": null,
   "id": "889b1f66",
   "metadata": {},
   "outputs": [],
   "source": [
    "(gdb) layout LAYOUT                     # 'src', 'asm', or 'split'"
   ]
  },
  {
   "cell_type": "markdown",
   "id": "0497513e",
   "metadata": {},
   "source": [
    "*Note:* If the `file` command has been used to load a different file, GDB does not reload the source/assembly files automatically, relying on cache instead. The `directory` command can be used to reset the file search path to be the compilation directory, if defined in the executable file, and the current working directory. Any alteration in the file search path forces GDB to reload the files."
   ]
  },
  {
   "cell_type": "markdown",
   "id": "83cec7ad",
   "metadata": {},
   "source": [
    "To display the function calls, leading up to the current instruction,"
   ]
  },
  {
   "cell_type": "code",
   "execution_count": null,
   "id": "31e0a094",
   "metadata": {},
   "outputs": [],
   "source": [
    "(gdb) info stack"
   ]
  },
  {
   "cell_type": "markdown",
   "id": "1036fb12",
   "metadata": {},
   "source": [
    "To display the current values in the register file,"
   ]
  },
  {
   "cell_type": "code",
   "execution_count": null,
   "id": "3b95c832",
   "metadata": {},
   "outputs": [],
   "source": [
    "(gdb) info registers"
   ]
  },
  {
   "cell_type": "markdown",
   "id": "72f705d0",
   "metadata": {},
   "source": [
    "To display the current value of a variable, in the current context,"
   ]
  },
  {
   "cell_type": "code",
   "execution_count": null,
   "id": "3299a2e8",
   "metadata": {},
   "outputs": [],
   "source": [
    "(gdb) print VARIABLE"
   ]
  },
  {
   "cell_type": "code",
   "execution_count": null,
   "id": "ca122d15",
   "metadata": {},
   "outputs": [],
   "source": [
    "(gdb) print *VARIABLE"
   ]
  },
  {
   "cell_type": "markdown",
   "id": "9367987a",
   "metadata": {},
   "source": [
    "To display the current values of all local variables,"
   ]
  },
  {
   "cell_type": "code",
   "execution_count": null,
   "id": "9bc6762a",
   "metadata": {},
   "outputs": [],
   "source": [
    "(gdb) info locals"
   ]
  },
  {
   "cell_type": "markdown",
   "id": "89b73300",
   "metadata": {},
   "source": [
    "To display the current values of all passed arguments,"
   ]
  },
  {
   "cell_type": "code",
   "execution_count": null,
   "id": "de98631a",
   "metadata": {},
   "outputs": [],
   "source": [
    "(gdb) info args"
   ]
  },
  {
   "cell_type": "markdown",
   "id": "60ae57e7",
   "metadata": {},
   "source": [
    "To display the current value at a specific address,"
   ]
  },
  {
   "cell_type": "code",
   "execution_count": null,
   "id": "f2ccfe98",
   "metadata": {},
   "outputs": [],
   "source": [
    "(gdb) info ADDRESS                                   # e.g: '0x40020000'"
   ]
  },
  {
   "cell_type": "code",
   "execution_count": null,
   "id": "c9b2fd5a",
   "metadata": {},
   "outputs": [],
   "source": [
    "(gdb) info ADDRESS + OFFSET                          # e.g: '0x40020000 + 0x14'"
   ]
  },
  {
   "cell_type": "markdown",
   "id": "4daf3543",
   "metadata": {},
   "source": [
    "#### Writing to memory"
   ]
  },
  {
   "cell_type": "markdown",
   "id": "0969bf69",
   "metadata": {},
   "source": [
    "To write to an arbitrary memory address,"
   ]
  },
  {
   "cell_type": "code",
   "execution_count": null,
   "id": "385ab7d3",
   "metadata": {},
   "outputs": [],
   "source": [
    "(gdb) set *ADDRESS = VALUE                           # Writes a word, by default           "
   ]
  },
  {
   "cell_type": "markdown",
   "id": "30756474",
   "metadata": {},
   "source": [
    "To write to a specific variable, in the current context,"
   ]
  },
  {
   "cell_type": "code",
   "execution_count": null,
   "id": "31ec51e7",
   "metadata": {},
   "outputs": [],
   "source": [
    "(gdb) set variable VARIABLE = VALUE                  # 'var' shorthand of 'variable'"
   ]
  },
  {
   "cell_type": "code",
   "execution_count": null,
   "id": "c352c01a",
   "metadata": {},
   "outputs": [],
   "source": [
    "(gdb) set variable *VARIABLE = VALUE"
   ]
  },
  {
   "cell_type": "markdown",
   "id": "cb63b3af",
   "metadata": {},
   "source": [
    "#### Managing breakpoints"
   ]
  },
  {
   "cell_type": "markdown",
   "id": "d1e06f1e",
   "metadata": {},
   "source": [
    "A *breakpoint* is an address of an instruction, that when executed, the CPU halts.\n",
    "\n",
    "* A *hardware breakpoint* is implemented by placing the address of the instruction in special registers within the CPU, called *hardware breakpoint registers*. Continously, the CPU compares the *program counter (PC)* register with the hardware breakpoint registers, and halts if a match occurs.\n",
    "\n",
    "* A *software breakpoint* is implemented by a debugger, when executing from RAM. Instructions at breakpoints are substituted with a special CPU instruction (e.g: `BKPT` in ARM), that halts the CPU when executed. The debugger, then, ensures the next instruction to be executed is the previously substituted instruction.\n",
    "\n",
    "By default, in read-only addresses, GDB inserts *hardware breakpoints*, which are limited by the number of supporting registers within the CPU."
   ]
  },
  {
   "cell_type": "markdown",
   "id": "e834de44",
   "metadata": {},
   "source": [
    "To insert a breakpoint,"
   ]
  },
  {
   "cell_type": "code",
   "execution_count": null,
   "id": "87540164",
   "metadata": {},
   "outputs": [],
   "source": [
    "(gdb) break FUNCTION"
   ]
  },
  {
   "cell_type": "code",
   "execution_count": null,
   "id": "89f66a73",
   "metadata": {},
   "outputs": [],
   "source": [
    "(gdb) break FILE:LINE"
   ]
  },
  {
   "cell_type": "markdown",
   "id": "03d96363",
   "metadata": {},
   "source": [
    "*Note:* Similarly, use the `clear` command to delete a breakpoint."
   ]
  },
  {
   "cell_type": "markdown",
   "id": "05b2167c",
   "metadata": {},
   "source": [
    "A *conditional breakpoint* behaves like any breakpoint, forcing the CPU to halt when executing from a specific address. However, the debugger automatically proceeds with the execution, if a condition is not satisified.\n",
    "\n",
    "To apply a condition on a breakpoint,"
   ]
  },
  {
   "cell_type": "code",
   "execution_count": null,
   "id": "20513b26",
   "metadata": {},
   "outputs": [],
   "source": [
    "(gdb) condition NUMBER BOOL-EXPR                 # e.g: 'x >= 10 && x <= 20'"
   ]
  },
  {
   "cell_type": "markdown",
   "id": "650628c0",
   "metadata": {},
   "source": [
    "*Note:* Within the condition, local variables, in the referenced context, as well as global variables may be used."
   ]
  },
  {
   "cell_type": "markdown",
   "id": "0d3141d4",
   "metadata": {},
   "source": [
    "A *watchpoint* is an address in memory, that the CPU halts after writing to, or reading from.\n",
    "* A *hardware watchpoint* is implemented, similar to hardware breakpoints, using special CPU registers.\n",
    "* A *software watchpoint* is implemented by a debugger, by stepping through each instruction and checking whether the specified address was written to, or read from.\n",
    "\n",
    "By default, GDB exhausts *hardware watchpoint registers*, and complains when they run out."
   ]
  },
  {
   "cell_type": "markdown",
   "id": "e466a2ad",
   "metadata": {},
   "source": [
    "To watch a variable, or an arbitrary memory location, in the current context,"
   ]
  },
  {
   "cell_type": "code",
   "execution_count": null,
   "id": "26251d70",
   "metadata": {},
   "outputs": [],
   "source": [
    "(gdb) watch VARIABLE                           # Breaks on write to 'VARIABLE'"
   ]
  },
  {
   "cell_type": "code",
   "execution_count": null,
   "id": "ea5708c9",
   "metadata": {},
   "outputs": [],
   "source": [
    "(gdb) watch *ADDRESS                           # Breaks on write to '*ADDRESS'"
   ]
  },
  {
   "cell_type": "code",
   "execution_count": null,
   "id": "75318b11",
   "metadata": {},
   "outputs": [],
   "source": [
    "(gdb) awatch ...                               # Breaks on read-write"
   ]
  },
  {
   "cell_type": "code",
   "execution_count": null,
   "id": "9ca53ebe",
   "metadata": {},
   "outputs": [],
   "source": [
    "(gdb) rwatch ...                               # Breaks on read-only"
   ]
  },
  {
   "cell_type": "markdown",
   "id": "fd6fdb67",
   "metadata": {},
   "source": [
    "*Note:* GDB inserts software watchpoints when dealing with local variables, and hence, avoid watching local variables."
   ]
  },
  {
   "cell_type": "markdown",
   "id": "d27f6feb",
   "metadata": {},
   "source": [
    "To disable a breakpoint, a conditional breakpoint, or a watchpoint,"
   ]
  },
  {
   "cell_type": "code",
   "execution_count": null,
   "id": "12271850",
   "metadata": {},
   "outputs": [],
   "source": [
    "(gdb) disable NUMBER                   # 'NUMBER' is the number given to any point by GDB"
   ]
  },
  {
   "cell_type": "markdown",
   "id": "ec77e581",
   "metadata": {},
   "source": [
    "*Note:* Similarly, use the `enable` command to enable a breakpoint, or `delete` to delete."
   ]
  },
  {
   "cell_type": "markdown",
   "id": "bbdaf040",
   "metadata": {},
   "source": [
    "To show the status of all existing breakpoints, conditional breakpoints, and watchpoints,"
   ]
  },
  {
   "cell_type": "code",
   "execution_count": null,
   "id": "7b177861",
   "metadata": {},
   "outputs": [],
   "source": [
    "(gdb) info break"
   ]
  },
  {
   "cell_type": "markdown",
   "id": "2761c167",
   "metadata": {},
   "source": [
    "#### Controlling execution flow"
   ]
  },
  {
   "cell_type": "markdown",
   "id": "c202d13b",
   "metadata": {},
   "source": [
    "After the CPU halts, different commands are used to control how execution proceeds thereafter."
   ]
  },
  {
   "cell_type": "markdown",
   "id": "4d96cfcd",
   "metadata": {},
   "source": [
    "To step through lines in the source file,"
   ]
  },
  {
   "cell_type": "code",
   "execution_count": null,
   "id": "5d679404",
   "metadata": {},
   "outputs": [],
   "source": [
    "(gdb) step                        # Step through a single line"
   ]
  },
  {
   "cell_type": "code",
   "execution_count": null,
   "id": "77fbfadd",
   "metadata": {},
   "outputs": [],
   "source": [
    "(gdb) step N                      # Step through 'N' lines"
   ]
  },
  {
   "cell_type": "markdown",
   "id": "715d57bc",
   "metadata": {},
   "source": [
    "To step through instructions in the assembly file,"
   ]
  },
  {
   "cell_type": "code",
   "execution_count": null,
   "id": "956c5a17",
   "metadata": {},
   "outputs": [],
   "source": [
    "(gdb) stepi                       # Step through a single instruction"
   ]
  },
  {
   "cell_type": "code",
   "execution_count": null,
   "id": "7a417c5c",
   "metadata": {},
   "outputs": [],
   "source": [
    "(gdb) stepi N                     # Step through 'N' instructions"
   ]
  },
  {
   "cell_type": "markdown",
   "id": "0617f605",
   "metadata": {},
   "source": [
    "To step over a function call (i.e, execute it without entering the function itself) in the source file,"
   ]
  },
  {
   "cell_type": "code",
   "execution_count": null,
   "id": "e5dfb049",
   "metadata": {},
   "outputs": [],
   "source": [
    "(gdb) next"
   ]
  },
  {
   "cell_type": "markdown",
   "id": "5a3a3164",
   "metadata": {},
   "source": [
    "To step out of the currently executing function (i.e, execute until the function returns) in the source file,"
   ]
  },
  {
   "cell_type": "code",
   "execution_count": null,
   "id": "3551e11c",
   "metadata": {},
   "outputs": [],
   "source": [
    "(gdb) finish"
   ]
  },
  {
   "cell_type": "markdown",
   "id": "46b00275",
   "metadata": {},
   "source": [
    "To run (or, reset) the loaded executable file, halting at the entry function (e.g: `main`) via a temporary breakpoint,"
   ]
  },
  {
   "cell_type": "code",
   "execution_count": null,
   "id": "a3b1fed5",
   "metadata": {},
   "outputs": [],
   "source": [
    "(gdb) start"
   ]
  }
 ],
 "metadata": {
  "kernelspec": {
   "display_name": "Python 3 (ipykernel)",
   "language": "python",
   "name": "python3"
  },
  "language_info": {
   "codemirror_mode": {
    "name": "ipython",
    "version": 3
   },
   "file_extension": ".py",
   "mimetype": "text/x-python",
   "name": "python",
   "nbconvert_exporter": "python",
   "pygments_lexer": "ipython3",
   "version": "3.8.10"
  }
 },
 "nbformat": 4,
 "nbformat_minor": 5
}
